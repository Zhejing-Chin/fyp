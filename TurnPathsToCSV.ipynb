{
  "nbformat": 4,
  "nbformat_minor": 0,
  "metadata": {
    "colab": {
      "name": "TurnPathsToCSV.ipynb",
      "provenance": [],
      "mount_file_id": "1Y7cgFHKknP-OAOrRoopqUMBzXXploz2V",
      "authorship_tag": "ABX9TyMmeyHKAZL00QDaL4mXD8H5",
      "include_colab_link": true
    },
    "kernelspec": {
      "name": "python3",
      "display_name": "Python 3"
    }
  },
  "cells": [
    {
      "cell_type": "markdown",
      "metadata": {
        "id": "view-in-github",
        "colab_type": "text"
      },
      "source": [
        "<a href=\"https://colab.research.google.com/github/Zhejing-Chin/fyp/blob/main/TurnPathsToCSV.ipynb\" target=\"_parent\"><img src=\"https://colab.research.google.com/assets/colab-badge.svg\" alt=\"Open In Colab\"/></a>"
      ]
    },
    {
      "cell_type": "code",
      "metadata": {
        "id": "fhzIlpc34Qyv"
      },
      "source": [
        "import csv\n",
        "import os\n",
        "import pandas as pd\n",
        "\n",
        "GP = '/content/drive/MyDrive/FYP/extracted objects/GP'\n",
        "CS = '/content/drive/MyDrive/FYP/extracted objects/NewData'\n",
        "path = '/content/drive/MyDrive/FYP/extracted objects'\n",
        "data = pd.DataFrame(columns = ['file_path', 'label'])\n",
        "file_path = []\n",
        "label = []\n",
        "\n",
        "dirs = os.listdir( GP )\n",
        "for file in dirs:\n",
        "  sub = os.listdir( GP + '/' + file )\n",
        "  sub = [file + '/' + x for x in sub]\n",
        "\n",
        "  for x in sub:\n",
        "    file_path.append(x)\n",
        "    label.append(file )\n",
        "  # break\n",
        "\n",
        "data['file_path'] = file_path\n",
        "data['label'] = label\n",
        "\n",
        "data.to_csv(path + '/gp.csv', index=False)\n",
        "\n",
        "# data.label"
      ],
      "execution_count": null,
      "outputs": []
    }
  ]
}